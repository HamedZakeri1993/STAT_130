{
 "cells": [
  {
   "cell_type": "markdown",
   "id": "14b74968",
   "metadata": {},
   "source": [
    "# STA130 TUT 02 (Sep13)<br><br> 👨‍💻 👩🏻‍💻 <u>Coding with data types, for loops, and logical control<u>\n"
   ]
  },
  {
   "cell_type": "markdown",
   "id": "9047160dfd885818",
   "metadata": {},
   "source": [
    "\n",
    "## ♻️ 📚 Review / Questions [10 minutes]\n",
    "1. Follow up questions and clarifications regarding regarding **notebooks, markdown, ChatBots, or `Python` code** previously introduced in the Sep06 TUT and Sep09 LEC \n",
    "\n",
    "> 1. We're continuing to dive into using **notebooks, markdown**, and `Python` as a tool: building comfort and capability working with **ChatBots** to leverage `Python` code is the objective of the current phase of the course...<br><br>\n",
    ">\n",
    "> 2. *Questions about [HW01](https://github.com/pointOfive/stat130chat130/blob/main/HW/STA130F24_HW01_DueSep12.ipynb) which was due yesterday (Thursday Sep12) should be asked in OH from 4-6PM ET Tuesday, Wednesday, and Thursday (see the [Quercus course homepage](https://q.utoronto.ca/courses/354091) for further details)*<br><br>\n",
    "> \n",
    "> 3. *And same story, and even moreso for questions about [HW02](https://github.com/pointOfive/stat130chat130/blob/main/HW/STA130F24_HW02_DueSep19.ipynb) which was due next Thursday (Sep19) (e.g., regarding the \"pre-lecture\" questions...)*"
   ]
  },
  {
   "cell_type": "markdown",
   "id": "7b6f2d524b9e6c7e",
   "metadata": {},
   "source": [
    "## 🚧 🏗️ Demo (using Jupyter Notebook and ChatBots) [50 minutes]\n",
    "\n",
    "\n",
    "#### 1. **[35 of the 50 minutes]** Demonstrate some traditional `python` coding structures\n",
    "\n",
    "1. `tuple()`, `list()`, vs `dict()  # immutable and mutable \"lists\" vs key-value pairs`<br><br>\n",
    "    \n",
    "2. some `NumPy` functions:<br><br>\n",
    "    \n",
    "    1. `import numpy as np`\n",
    "    2. `np.array([1,2,3]) # a faster \"list\"`\n",
    "    3. `np.random.choice([1,2,3])`<br><br>\n",
    "        \n",
    "3. `for i in range(n):`, `for x in a_list:`, `for i,x in enumerate(a_list):`, and `print()`<br><br>\n",
    "    \n",
    "    1. `variable` as the last line of a \"code cell\" in a notebook \"prints\" the value\n",
    "    2. but `print()` is needed inside `for` loop if you want to output something<br><br>\n",
    "        \n",
    "4. `if`/`else` conditional statements<br><br> \n",
    "\n",
    "    1. perhaps with `x in b_list`<br>or `i % 2 == 0` to treat evens/odds differently  (sort of like the infamous \"FizzBuzz\" problem that some people [can't complete](https://www.quora.com/On-average-what-is-the-proportion-of-applicants-that-cannot-pass-a-simple-FizzBuzz-test-based-on-your-personal-experience-or-on-facts) as part of a coding interview challenge)\n",
    "    2. note the \"similarity\" to the `try-except` block structure when that's encountered in the code below since it's used there (despite being a \"more advanced\" \n",
    "        \n",
    "#### 2. **[5 of the 50 minutes]** Reintroduce the [Monty Hall problem](https://github.com/pointOfive/stat130chat130/blob/main/CHATLOG/wk2/GPT/SLS/00001_gpt3p5_MonteHall_ProblemExplanation_v1.md) and see which of the coding structures above you recognize (or do not see) in the Monty Hall simulation code below\n",
    "\n",
    "#### 3. **[10 of the 50 minutes]** Use any remaining time to start a demonstration of using a ChatBot to (a) understand what the code below is doing and (b) suggest an improved streamlined version of the `for` loop simulation code that might be easier to explain and understand\n",
    "    \n",
    "> ChatGPT version 3.5 [was very effective](https://github.com/pointOfive/stat130chat130/blob/main/CHATLOG/wk2/GPT/SLS/00003_gpt3p5_MonteHall_CodeDiscussion_v1.md) for (b), while Copilot was shockingly bad on a [first try](../CHATLOG/wk2/COP/SLS/00001_creative_MonteHall_CodeDiscussion_v1.md) but was able to do better [with some helpful guidance](https://github.com/pointOfive/stat130chat130/blob/main/CHATLOG/wk2/COP/SLS/00002_concise_MonteHall_CodeDiscussion_v2.md)."
   ]
  },
  {
   "cell_type": "markdown",
   "id": "a2566973",
   "metadata": {},
   "source": [
    "# Tuple Example "
   ]
  },
  {
   "cell_type": "code",
   "execution_count": 1,
   "id": "20e8c519ed45cbfb",
   "metadata": {},
   "outputs": [
    {
     "name": "stdout",
     "output_type": "stream",
     "text": [
      "10\n",
      "10\n",
      "20\n",
      "30\n",
      "apple\n"
     ]
    }
   ],
   "source": [
    "# Cell to demo what the above code does\n",
    "# Creating a tuple\n",
    "my_tuple = (10, 20, 30, 'apple')\n",
    "\n",
    "# Accessing elements (indexing)\n",
    "print(my_tuple[0])  # Output: 10\n",
    "\n",
    "# Can iterate through a tuple\n",
    "for item in my_tuple:\n",
    "    print(item)"
   ]
  },
  {
   "cell_type": "code",
   "execution_count": 2,
   "id": "42a0e6e9",
   "metadata": {},
   "outputs": [
    {
     "ename": "TypeError",
     "evalue": "'tuple' object does not support item assignment",
     "output_type": "error",
     "traceback": [
      "\u001b[0;31m---------------------------------------------------------------------------\u001b[0m",
      "\u001b[0;31mTypeError\u001b[0m                                 Traceback (most recent call last)",
      "Cell \u001b[0;32mIn[2], line 2\u001b[0m\n\u001b[1;32m      1\u001b[0m \u001b[38;5;66;03m# Tuples are immutable\u001b[39;00m\n\u001b[0;32m----> 2\u001b[0m \u001b[43mmy_tuple\u001b[49m\u001b[43m[\u001b[49m\u001b[38;5;241;43m0\u001b[39;49m\u001b[43m]\u001b[49m \u001b[38;5;241m=\u001b[39m \u001b[38;5;241m100\u001b[39m  \u001b[38;5;66;03m# This will raise a TypeError\u001b[39;00m\n",
      "\u001b[0;31mTypeError\u001b[0m: 'tuple' object does not support item assignment"
     ]
    }
   ],
   "source": [
    "# Tuples are immutable\n",
    "my_tuple[0] = 100  # This will raise a TypeError"
   ]
  },
  {
   "cell_type": "markdown",
   "id": "66049466",
   "metadata": {},
   "source": [
    "# Lists"
   ]
  },
  {
   "cell_type": "code",
   "execution_count": 5,
   "id": "58f70b99",
   "metadata": {},
   "outputs": [
    {
     "name": "stdout",
     "output_type": "stream",
     "text": [
      "10\n",
      "[100, 20, 30, 'banana']\n",
      "[100, 20, 30, 'banana', 'grape']\n",
      "[100, 20, 30, 'banana', 'grape', 30, 30]\n",
      "[100, 20, 'banana', 'grape', 30, 30]\n"
     ]
    }
   ],
   "source": [
    "# Add more code cells to keep a record of the demos\n",
    "# Creating a list\n",
    "my_list = [10, 20, 30, 'banana']\n",
    "\n",
    "# Accessing elements (indexing)\n",
    "print(my_list[0])  # Output: 10\n",
    "\n",
    "# Lists are mutable\n",
    "my_list[0] = 100\n",
    "print(my_list)  # Output: [100, 20, 30, 'banana']\n",
    "\n",
    "# Adding elements\n",
    "my_list.append('grape')\n",
    "print(my_list)\n",
    "\n",
    "# Removing elements\n",
    "my_list.append(30)\n",
    "my_list.append(30)\n",
    "print(my_list)\n",
    "my_list.remove(30)\n",
    "\n",
    "\n",
    "print(my_list)  # Output: [100, 20, 'banana', 'grape']\n"
   ]
  },
  {
   "cell_type": "markdown",
   "id": "90dd8b43",
   "metadata": {},
   "source": [
    "The reason why the following code did not delete all \"30\" inputs is that the remove() method in Python removes only the first occurrence of the specified value from the list. It does not remove all instances of that value."
   ]
  },
  {
   "cell_type": "markdown",
   "id": "ce94e220",
   "metadata": {},
   "source": [
    "# Dict"
   ]
  },
  {
   "cell_type": "code",
   "execution_count": 8,
   "id": "dd963b9f",
   "metadata": {},
   "outputs": [
    {
     "name": "stdout",
     "output_type": "stream",
     "text": [
      "Alice\n",
      "{'name': 'Alice', 'age': 26, 'city': 'New York'}\n",
      "{'name': 'Alice', 'age': 26, 'city': 'New York', 'country': 'USA'}\n",
      "{'name': 'Alice', 'age': 26, 'country': 'USA'}\n"
     ]
    }
   ],
   "source": [
    "# Creating a dictionary\n",
    "my_dict_person = {'name': 'Alice', 'age': 25, 'city': 'New York'}\n",
    "\n",
    "# Accessing elements (by key)\n",
    "print(my_dict_person['name'])  # Output: Alice\n",
    "\n",
    "# Dictionaries are mutable\n",
    "my_dict_person['age'] = 26\n",
    "print(my_dict_person)  # Output: {'name': 'Alice', 'age': 26, 'city': 'New York'}\n",
    "\n",
    "# Adding new key-value pairs\n",
    "my_dict_person['country'] = 'USA'\n",
    "print(my_dict_person)\n",
    "\n",
    "# Removing key-value pairs\n",
    "del my_dict_person['city']\n",
    "\n",
    "print(my_dict_person)  # Output: {'name': 'Alice', 'age': 26, 'country': 'USA'}\n"
   ]
  },
  {
   "cell_type": "markdown",
   "id": "f6ff717b",
   "metadata": {},
   "source": [
    "# Numpy "
   ]
  },
  {
   "cell_type": "markdown",
   "id": "cb4912c7",
   "metadata": {},
   "source": [
    "NumPy is a powerful Python library used for numerical computing. It provides support for large, multi-dimensional arrays and matrices, along with a collection of mathematical functions to operate on these arrays efficiently. NumPy is essential for scientific computing, enabling fast operations on arrays (e.g., element-wise operations, linear algebra, random sampling) and serves as the foundation for other data science libraries like pandas, SciPy, and TensorFlow.\n",
    "\n",
    "### Key Uses:\n",
    "- Efficient array manipulation.\n",
    "- Mathematical and statistical operations.\n",
    "- Handling multidimensional data.\n",
    "- Integration with other scientific libraries."
   ]
  },
  {
   "cell_type": "code",
   "execution_count": 10,
   "id": "2e1486ec",
   "metadata": {},
   "outputs": [],
   "source": [
    "# 1. Importing NumPy\n",
    "import numpy as np"
   ]
  },
  {
   "cell_type": "code",
   "execution_count": 12,
   "id": "914e5230",
   "metadata": {},
   "outputs": [
    {
     "data": {
      "text/plain": [
       "array([1, 2, 3, 4, 5])"
      ]
     },
     "execution_count": 12,
     "metadata": {},
     "output_type": "execute_result"
    }
   ],
   "source": [
    "# 2. Creating Arrays\n",
    "#Creating a 1D array (vector):\n",
    "arr = np.array([1, 2, 3, 4, 5])\n",
    "arr # what is a difference between list and array "
   ]
  },
  {
   "cell_type": "code",
   "execution_count": 14,
   "id": "1ece0263",
   "metadata": {},
   "outputs": [
    {
     "name": "stdout",
     "output_type": "stream",
     "text": [
      "[[1 2 3]\n",
      " [4 5 6]]\n"
     ]
    }
   ],
   "source": [
    "#2.Creating a 2D array (matrix):\n",
    "matrix = np.array([[1, 2, 3], [4, 5, 6]])\n",
    "print(matrix)\n"
   ]
  },
  {
   "cell_type": "code",
   "execution_count": 15,
   "id": "c90e035f",
   "metadata": {},
   "outputs": [
    {
     "ename": "ValueError",
     "evalue": "setting an array element with a sequence. The requested array has an inhomogeneous shape after 1 dimensions. The detected shape was (2,) + inhomogeneous part.",
     "output_type": "error",
     "traceback": [
      "\u001b[0;31m---------------------------------------------------------------------------\u001b[0m",
      "\u001b[0;31mValueError\u001b[0m                                Traceback (most recent call last)",
      "Cell \u001b[0;32mIn[15], line 1\u001b[0m\n\u001b[0;32m----> 1\u001b[0m matrix \u001b[38;5;241m=\u001b[39m \u001b[43mnp\u001b[49m\u001b[38;5;241;43m.\u001b[39;49m\u001b[43marray\u001b[49m\u001b[43m(\u001b[49m\u001b[43m[\u001b[49m\u001b[43m[\u001b[49m\u001b[38;5;241;43m1\u001b[39;49m\u001b[43m,\u001b[49m\u001b[43m \u001b[49m\u001b[38;5;241;43m2\u001b[39;49m\u001b[43m]\u001b[49m\u001b[43m,\u001b[49m\u001b[43m \u001b[49m\u001b[43m[\u001b[49m\u001b[38;5;241;43m4\u001b[39;49m\u001b[43m,\u001b[49m\u001b[43m \u001b[49m\u001b[38;5;241;43m5\u001b[39;49m\u001b[43m,\u001b[49m\u001b[43m \u001b[49m\u001b[38;5;241;43m6\u001b[39;49m\u001b[43m]\u001b[49m\u001b[43m]\u001b[49m\u001b[43m)\u001b[49m\n",
      "\u001b[0;31mValueError\u001b[0m: setting an array element with a sequence. The requested array has an inhomogeneous shape after 1 dimensions. The detected shape was (2,) + inhomogeneous part."
     ]
    }
   ],
   "source": [
    "matrix = np.array([[1, 2], [4, 5, 6]])\n"
   ]
  },
  {
   "cell_type": "markdown",
   "id": "c3d84fa3",
   "metadata": {},
   "source": [
    "# Array Operations"
   ]
  },
  {
   "cell_type": "code",
   "execution_count": 16,
   "id": "dfdf6c48",
   "metadata": {},
   "outputs": [
    {
     "name": "stdout",
     "output_type": "stream",
     "text": [
      "[6 7 8 9]\n",
      "[2 4 6 8]\n"
     ]
    }
   ],
   "source": [
    "arr = np.array([1, 2, 3, 4])\n",
    "print(arr + 5)  # Output: [6 7 8 9]\n",
    "print(arr * 2)  # Output: [2 4 6 8]\n"
   ]
  },
  {
   "cell_type": "markdown",
   "id": "bdb49e61",
   "metadata": {},
   "source": [
    ".... Refere to link for gpt "
   ]
  },
  {
   "cell_type": "markdown",
   "id": "589a7558",
   "metadata": {},
   "source": [
    "# loops "
   ]
  },
  {
   "cell_type": "markdown",
   "id": "82e2eff7",
   "metadata": {},
   "source": [
    "1. for i in range(n):\n",
    "This is a loop that runs n times, where i takes values from 0 to n-1.\n",
    "range(n) generates a sequence of numbers from 0 to n-1."
   ]
  },
  {
   "cell_type": "code",
   "execution_count": 17,
   "id": "830f7eb4",
   "metadata": {},
   "outputs": [
    {
     "name": "stdout",
     "output_type": "stream",
     "text": [
      "0\n",
      "1\n",
      "2\n",
      "3\n",
      "4\n"
     ]
    }
   ],
   "source": [
    "n = 5\n",
    "for i in range(n):\n",
    "    print(i)\n"
   ]
  },
  {
   "cell_type": "code",
   "execution_count": 20,
   "id": "ae9ec716",
   "metadata": {},
   "outputs": [
    {
     "name": "stdout",
     "output_type": "stream",
     "text": [
      "10\n",
      "20\n",
      "30\n"
     ]
    }
   ],
   "source": [
    "a_list = [10, 20, 30]\n",
    "for x in a_list:\n",
    "    print(x)\n"
   ]
  },
  {
   "cell_type": "code",
   "execution_count": 18,
   "id": "9e74e2ca",
   "metadata": {},
   "outputs": [
    {
     "data": {
      "text/plain": [
       "range(0, 5)"
      ]
     },
     "execution_count": 18,
     "metadata": {},
     "output_type": "execute_result"
    }
   ],
   "source": [
    "range(n)"
   ]
  },
  {
   "cell_type": "code",
   "execution_count": 22,
   "id": "ac762731",
   "metadata": {},
   "outputs": [
    {
     "name": "stdout",
     "output_type": "stream",
     "text": [
      "0 apple\n",
      "1 banana\n",
      "2 cherry\n"
     ]
    }
   ],
   "source": [
    "a_list = ['apple', 'banana', 'cherry']\n",
    "for idx, item in enumerate(a_list):\n",
    "    print(idx, item)\n"
   ]
  },
  {
   "cell_type": "markdown",
   "id": "ddfdd543",
   "metadata": {},
   "source": [
    "# if/else conditional statements"
   ]
  },
  {
   "cell_type": "code",
   "execution_count": 23,
   "id": "f2b2cae1",
   "metadata": {},
   "outputs": [
    {
     "name": "stdout",
     "output_type": "stream",
     "text": [
      "The number is positive\n"
     ]
    }
   ],
   "source": [
    "# Assign a value to a variable\n",
    "number = 10\n",
    "\n",
    "# If/else conditional statement\n",
    "if number > 0: \n",
    "    print(\"The number is positive\")\n",
    "elif number == 0:\n",
    "    print(\"The number is zero\")\n",
    "else:\n",
    "    print(\"The number is negative\")\n"
   ]
  },
  {
   "cell_type": "code",
   "execution_count": 24,
   "id": "be4f227c",
   "metadata": {},
   "outputs": [
    {
     "name": "stdout",
     "output_type": "stream",
     "text": [
      "The number is negative\n"
     ]
    }
   ],
   "source": [
    "# Assign a value to a variable \n",
    "# Not a logical example \n",
    "number = 10\n",
    "\n",
    "# If/else conditional statement\n",
    "if False: \n",
    "    print(\"The number is positive\")\n",
    "elif False:\n",
    "    print(\"The number is zero\")\n",
    "else:\n",
    "    print(\"The number is negative\")"
   ]
  },
  {
   "cell_type": "code",
   "execution_count": 1,
   "id": "d9cfb02869afc350",
   "metadata": {
    "ExecuteTime": {
     "end_time": "2024-05-15T21:54:31.981069Z",
     "start_time": "2024-05-15T21:54:30.771611Z"
    }
   },
   "outputs": [
    {
     "data": {
      "text/plain": [
       "0.66777"
      ]
     },
     "execution_count": 1,
     "metadata": {},
     "output_type": "execute_result"
    }
   ],
   "source": [
    "# Monte Hall Simulation Code -- not the only way to code this, but it's what Prof. Schwartz came up with...\n",
    "\n",
    "import numpy as np\n",
    "all_door_options = (1,2,3)  # tuple\n",
    "my_door_choice = 1  # 1,2,3\n",
    "i_won = 0\n",
    "reps = 100000\n",
    "for i in range(reps):\n",
    "    secret_winning_door = np.random.choice(all_door_options)\n",
    "    all_door_options_list = list(all_door_options)\n",
    "    # take the secret_winning_door, so we don't show it as a \"goat\" losing door\n",
    "    all_door_options_list.remove(secret_winning_door)\n",
    "    try:\n",
    "        # if my_door_choice was secret_winning_door then it's already removed\n",
    "        all_door_options_list.remove(my_door_choice)\n",
    "    except:\n",
    "        pass\n",
    "    # show a \"goat\" losing door and remove it\n",
    "    goat_door_reveal = np.random.choice(all_door_options_list)\n",
    "    all_door_options_list.remove(goat_door_reveal)\n",
    "\n",
    "    # put the secret_winning_door back in if it wasn't our choice\n",
    "    # we previously removed it, so it would be shown as a  \"goat\" losing door\n",
    "    if secret_winning_door != my_door_choice:\n",
    "        all_door_options_list.append(secret_winning_door)\n",
    "    # if secret_winning_door was our choice then all that's left in the list is a \"goat\" losing door\n",
    "    # if secret_winning_door wasn't our choice then it's all that will be left in the list\n",
    "\n",
    "    # swap strategy\n",
    "    my_door_choice = all_door_options_list[0]\n",
    "\n",
    "    if my_door_choice == secret_winning_door:\n",
    "        i_won += 1\n",
    "\n",
    "i_won/reps"
   ]
  },
  {
   "cell_type": "markdown",
   "id": "9767ffb4",
   "metadata": {},
   "source": [
    "Let's break it down into smaller steps to make it easier to follow.\n",
    "\n",
    "### Overview of the Monty Hall Problem:\n",
    "Imagine you're on a game show, and you're asked to choose one of three doors. Behind one door is a car (the prize), and behind the other two are goats. After you choose a door, the host (Monty) will open one of the remaining doors, revealing a goat. You are then given the option to **stay** with your original choice or **switch** to the other unopened door.\n",
    "\n",
    "The counterintuitive result is that you're more likely to win if you **switch** (your probability of winning by switching is 2/3).\n",
    "\n",
    "Now let's walk through the code step by step.\n",
    "\n",
    "---\n",
    "\n",
    "### Step 1: Importing Libraries and Initial Setup\n",
    "\n",
    "```python\n",
    "import numpy as np\n",
    "all_door_options = (1, 2, 3)  # Tuple representing three doors (1, 2, 3)\n",
    "my_door_choice = 1  # You always start by choosing door 1\n",
    "i_won = 0  # Count of how many times you win by switching doors\n",
    "reps = 100000  # Number of times to repeat the simulation (100,000)\n",
    "```\n",
    "- **`all_door_options`**: This is a tuple that represents the three doors available to choose from (1, 2, 3).\n",
    "- **`my_door_choice`**: You initially always pick door 1.\n",
    "- **`i_won`**: This variable keeps track of how many times you win by switching doors.\n",
    "- **`reps`**: The number of repetitions for the simulation (100,000 times in this case).\n",
    "\n",
    "---\n",
    "\n",
    "### Step 2: Running the Simulation Multiple Times\n",
    "\n",
    "```python\n",
    "for i in range(reps):\n",
    "    secret_winning_door = np.random.choice(all_door_options)  # Randomly pick the winning door\n",
    "```\n",
    "- This loop runs the simulation 100,000 times (`reps = 100000`).\n",
    "- For each iteration, the game randomly selects which door hides the car (`secret_winning_door`).\n",
    "\n",
    "---\n",
    "\n",
    "### Step 3: Removing Doors to Simulate Monty Hall's Behavior\n",
    "\n",
    "```python\n",
    "    all_door_options_list = list(all_door_options)  # Convert tuple to list to remove doors\n",
    "    all_door_options_list.remove(secret_winning_door)  # Remove the winning door\n",
    "```\n",
    "- Convert the tuple of doors into a list so that we can modify it (remove doors).\n",
    "- Remove the door with the car (`secret_winning_door`) because Monty won't reveal the prize.\n",
    "\n",
    "---\n",
    "\n",
    "### Step 4: Remove Player’s Initial Choice\n",
    "\n",
    "```python\n",
    "    try:\n",
    "        all_door_options_list.remove(my_door_choice)  # Remove the player's initial choice\n",
    "    except:\n",
    "        pass  # Ignore errors if the player's choice is already removed\n",
    "```\n",
    "- If the player's initial choice is the same as the winning door, we remove it from the list.\n",
    "- The `try` block handles the case where the player's choice was already removed (if they picked the winning door initially).\n",
    "\n",
    "---\n",
    "\n",
    "### Step 5: Monty Reveals a Goat Door\n",
    "\n",
    "```python\n",
    "    goat_door_reveal = np.random.choice(all_door_options_list)  # Monty reveals a goat\n",
    "    all_door_options_list.remove(goat_door_reveal)  # Remove the goat door from the list\n",
    "```\n",
    "- Monty randomly selects one of the remaining doors to reveal a goat (`goat_door_reveal`).\n",
    "- That goat door is then removed from the list, leaving only the player's choice and one other door.\n",
    "\n",
    "---\n",
    "\n",
    "### Step 6: Player Switches to the Remaining Door\n",
    "\n",
    "```python\n",
    "    if secret_winning_door != my_door_choice:\n",
    "        all_door_options_list.append(secret_winning_door)  # Add back the winning door if needed\n",
    "    my_door_choice = all_door_options_list[0]  # Player switches to the remaining door\n",
    "```\n",
    "- If the player's original choice wasn't the winning door, we add the winning door back to the list.\n",
    "- The player then switches to the only remaining door (`my_door_choice = all_door_options_list[0]`).\n",
    "\n",
    "---\n",
    "\n",
    "### Step 7: Check if Player Wins\n",
    "\n",
    "```python\n",
    "    if my_door_choice == secret_winning_door:\n",
    "        i_won += 1  # Increment the win counter if the player wins\n",
    "```\n",
    "- After switching, if the player's new door is the winning door, they win, and `i_won` is incremented.\n",
    "\n",
    "---\n",
    "\n",
    "### Step 8: Calculate the Win Rate\n",
    "\n",
    "```python\n",
    "i_won / reps  # Calculate the win percentage by dividing wins by the total repetitions\n",
    "```\n",
    "- At the end, the win rate is calculated by dividing the number of wins (`i_won`) by the total number of simulations (`reps`).\n",
    "\n",
    "---\n",
    "\n",
    "### Simplified Summary:\n",
    "\n",
    "1. The player always chooses door 1.\n",
    "2. The winning door is randomly chosen.\n",
    "3. Monty reveals a losing (goat) door.\n",
    "4. The player switches to the remaining door.\n",
    "5. If the new door is the winning door, the player wins.\n",
    "6. This is repeated 100,000 times to estimate the probability of winning by switching.\n",
    "\n",
    "The result (`i_won / reps`) will show that switching doors leads to a win around 66.6% of the time, which aligns with the Monty Hall problem's solution.\n",
    "\n",
    "I hope this step-by-step explanation makes the code easier to follow!"
   ]
  },
  {
   "cell_type": "markdown",
   "id": "1e97f27b",
   "metadata": {},
   "source": [
    "link of gpt : https://chatgpt.com/share/66e48cd2-bd6c-8002-81cf-3e6234daa5a5"
   ]
  },
  {
   "cell_type": "markdown",
   "id": "b1985697e415697b",
   "metadata": {},
   "source": [
    "## 💬 🗣️ Communication [40 minutes]\n",
    "    \n",
    "#### 1. **[5 of the 40 minutes]** Quickly execute the \"rule of 5\" and take 5 minutes to break into 5 new groups of about 5 students and assign the following 5 questions to the 5 groups (and note that this instruction uses fives 5's 😉). Consider allowing students to preferentially select which group they join by calling for volunteers for each prompt, and feel free to use 5 minutes from the next (dicussion) sections doing so if you choose to (since this could be viewed as being a part of the \"discussion\").\n",
    "\n",
    "> *For each of the prompts, groups should consider the pros and cons of two options, the potential impact of a decision to persue one of the options, and how they take into account how uncertainty influences their thinking about the options.<br><br>*\n",
    ">\n",
    "> <details class=\"details-example\"><summary style=\"color:blue\"><u>Further Guidance</u></summary>\n",
    ">     \n",
    "> I asked a ChatBot to create a group activity for you that was related to decision-making under uncertainty using probability, and it produced the following questions. \n",
    "> \n",
    "> *This is a little bit like one of the ideas in the \"Afterward\" of HW01 asking a ChatBot to suggest and explain some other, perhaps less well-known \"unintuitive surprising statistics paradoxes\" (besides the \"World War 2 Plane\" and \"Monte Hall\" problems)*\n",
    ">\n",
    "> </details>\n",
    "\n",
    "1. **Stock Investment Strategy:** Students are investors trying to maximize their returns in the stock market. They must decide between two investment strategies: \"diversified portfolio\" or \"focused portfolio.\" Each strategy has different probabilities of success based on market conditions.<br><br>\n",
    "    \n",
    "    1. Diversified Portfolio: Spread investments across multiple industries.\n",
    "    2. Focused Portfolio: Concentrate investments in a few high-potential stocks.<br><br>\n",
    "        \n",
    "2. **Healthcare Treatment Decision:** Students are healthcare professionals deciding between two treatment options for a patient's condition. Each treatment has different success rates and potential side effects.<br><br>\n",
    "    \n",
    "    1. Treatment A: High success rate but moderate side effects.\n",
    "    2. Treatment B: Lower success rate but minimal side effects.<br><br>\n",
    "        \n",
    "3. **Sports Team Strategy:** Students are coaches of a sports team planning their game strategy. They must decide between two tactics: \"offensive strategy\" or \"defensive strategy.\" Each strategy has different probabilities of winning based on the opponent's strengths and weaknesses.<br><br>\n",
    "    \n",
    "    1. Offensive Strategy: Focus on scoring goals/points aggressively.\n",
    "    2. Defensive Strategy: Prioritize defense to prevent the opponent from scoring.<br><br>\n",
    "        \n",
    "4. **Career Path Decision:** Students are recent graduates deciding between two career paths: \"corporate job\" or \"entrepreneurship.\" Each path has different probabilities of success and factors to consider, such as job security, income potential, and work-life balance.<br><br>\n",
    "    \n",
    "    1. Corporate Job: Stable income but limited growth opportunities.\n",
    "    2. Entrepreneurship: Higher potential for success but greater risk and uncertainty.<br><br>\n",
    "        \n",
    "5. **Environmental Conservation Strategy:** Students are environmental activists advocating for conservation efforts in a wildlife reserve. They must decide between two conservation strategies: \"habitat preservation\" or \"species reintroduction.\" Each strategy has different probabilities of achieving long-term sustainability for the ecosystem.<br><br>\n",
    "    \n",
    "    1. Habitat Preservation: Protect existing habitats from human encroachment.\n",
    "    2. Species Reintroduction: Reintroduce endangered species to restore ecological balance.\n",
    "\n",
    "\n",
    "#### 2. **[15 to 20 of the 40 minutes]** Each group plans and prepares a brief (approximately 3 minute) summary (a) introducing their problem context and (b) outlining their decision and the rationale behind it. The group presentations should address\n",
    "\n",
    "1. the expected outcomes of their decision\n",
    "2. the risks involved\n",
    "3. and why they believe their choice is the best in light of their characterization of the degree uncertainty present in their context \n",
    "\n",
    "#### 3. **[15 to 20 of the 40 minutes]** Each group gives their (approximately 3 minute) planned presentation. If time permits, engaging in some (students or TA) Q&A seeking clarification or challenging group decisions would be ideal.\n",
    "\n",
    "Groups who manage to plan a presentation where multiple group members actively part of the presentation should be awarded \"gold stars\", figuratively, of course, since actualy gold, or stars, of gold star stickers are unfortunately momentarily in short supply"
   ]
  }
 ],
 "metadata": {
  "kernelspec": {
   "display_name": "Python 3 (ipykernel)",
   "language": "python",
   "name": "python3"
  },
  "language_info": {
   "codemirror_mode": {
    "name": "ipython",
    "version": 3
   },
   "file_extension": ".py",
   "mimetype": "text/x-python",
   "name": "python",
   "nbconvert_exporter": "python",
   "pygments_lexer": "ipython3",
   "version": "3.11.6"
  }
 },
 "nbformat": 4,
 "nbformat_minor": 5
}
